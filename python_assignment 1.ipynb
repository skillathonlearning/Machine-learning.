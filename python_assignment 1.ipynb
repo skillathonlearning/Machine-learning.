{
 "cells": [
  {
   "cell_type": "markdown",
   "metadata": {},
   "source": [
    "1. Write a program which will find all such numbers which are divisible by 8 but are not a multiple of 5, between 4000 and 5300 (both included). The numbers obtained should be printed in a comma-separated sequence on a single line."
   ]
  },
  {
   "cell_type": "code",
   "execution_count": 14,
   "metadata": {},
   "outputs": [
    {
     "name": "stdout",
     "output_type": "stream",
     "text": [
      "The numbers which are divisible by 8 but not multiple of 5 are: \n",
      "4008,4016,4024,4032,4048,4056,4064,4072,4088,4096,4104,4112,4128,4136,4144,4152,4168,4176,4184,4192,4208,4216,4224,4232,4248,4256,4264,4272,4288,4296,4304,4312,4328,4336,4344,4352,4368,4376,4384,4392,4408,4416,4424,4432,4448,4456,4464,4472,4488,4496,4504,4512,4528,4536,4544,4552,4568,4576,4584,4592,4608,4616,4624,4632,4648,4656,4664,4672,4688,4696,4704,4712,4728,4736,4744,4752,4768,4776,4784,4792,4808,4816,4824,4832,4848,4856,4864,4872,4888,4896,4904,4912,4928,4936,4944,4952,4968,4976,4984,4992,5008,5016,5024,5032,5048,5056,5064,5072,5088,5096,5104,5112,5128,5136,5144,5152,5168,5176,5184,5192,5208,5216,5224,5232,5248,5256,5264,5272,5288,5296\n"
     ]
    }
   ],
   "source": [
    "ans = []\n",
    "for i in range(4000,5301):\n",
    "    if i % 8 == 0:\n",
    "        if i % 5 != 0:\n",
    "            ans.append(i)\n",
    "print(\"The numbers which are divisible by 8 but not multiple of 5 are: \")\n",
    "print(*ans,sep = \",\")            "
   ]
  },
  {
   "cell_type": "markdown",
   "metadata": {},
   "source": [
    "2. Write a program which can compute the factorial of a given numbers. The results should be printed in a comma-separated sequence on a single line.\n",
    "Hints: In case of input data being supplied to the question, it should be assumed to be a console input."
   ]
  },
  {
   "cell_type": "code",
   "execution_count": 20,
   "metadata": {},
   "outputs": [
    {
     "name": "stdout",
     "output_type": "stream",
     "text": [
      "enter input values, only positive values separted by comma:3,5\n",
      "The factorial values of given numbers:\n",
      "6,120\n"
     ]
    }
   ],
   "source": [
    "x = input(\"enter input values, only positive values separted by comma:\").split(\",\")\n",
    "x = [int(i) for i in x]\n",
    "fact = []\n",
    "for i in x:\n",
    "    a = 1\n",
    "    for j in range(1,i+1):\n",
    "        a = a*j\n",
    "    fact.append(a)\n",
    "print(\"The factorial values of given numbers:\")\n",
    "print(*fact,sep = \",\")"
   ]
  },
  {
   "cell_type": "markdown",
   "metadata": {},
   "source": [
    "3. With a given integral number n, write a program to generate a dictionary that contains (i, i*i) such that is an integral number between 1 and n (both included) and then the program should print the dictionary.\n",
    "Suppose the input is supplied to the program: 4\n",
    "Then, the output should be: {1: 1, 2: 4, 3: 9, 4: 16}\n",
    "Hints: In case of input data being supplied to the question, it should be assumed to be a console input. Consider use dict()"
   ]
  },
  {
   "cell_type": "code",
   "execution_count": 22,
   "metadata": {},
   "outputs": [
    {
     "name": "stdout",
     "output_type": "stream",
     "text": [
      "enter input value:4\n",
      "dictornary for given input value: {1: 1, 2: 4, 3: 9, 4: 16}\n"
     ]
    }
   ],
   "source": [
    "x = input(\"enter input value:\")\n",
    "x = int(x)\n",
    "ans = []\n",
    "for i in range(1,x+1):\n",
    "    ans.append((i,i*i))\n",
    "ans = dict(ans)\n",
    "print(\"dictornary for given input value: {}\".format(ans))"
   ]
  },
  {
   "cell_type": "markdown",
   "metadata": {},
   "source": [
    "4. Write a program which accepts a sequence of comma-separated numbers from console and generate a list and a tuple which contains every number.\n",
    "Suppose the input is supplied to the program: 34, 67, 55, 33, 12, 98\n",
    "Then, the output should be:\n",
    "['34', '67', '55', '33', '12', '98']\n",
    "('34', '67', '55', '33', '12', '98')\n",
    "Hints: In case of input data being supplied to the question, it should be assumed to be a console input. tuple() method can convert list to tuple"
   ]
  },
  {
   "cell_type": "code",
   "execution_count": 23,
   "metadata": {},
   "outputs": [
    {
     "name": "stdout",
     "output_type": "stream",
     "text": [
      "enter input values seperated by comma:34,67,55,33,12,98\n",
      "list: ['34', '67', '55', '33', '12', '98']\n",
      "Tuple: ('34', '67', '55', '33', '12', '98')\n"
     ]
    }
   ],
   "source": [
    "x = input(\"enter input values seperated by comma:\").split(\",\")\n",
    "print(\"list: {}\".format(x))\n",
    "print(\"Tuple: {}\".format(tuple(x)))"
   ]
  },
  {
   "cell_type": "markdown",
   "metadata": {},
   "source": [
    "5. Define a class which has at least two methods:\n",
    "getString: to get a string from console input\n",
    "printString: to print the string in upper case\n",
    "Also please include simple test function to test the class methods.\n",
    "Hints: Use __init__ method to construct some parameters"
   ]
  },
  {
   "cell_type": "code",
   "execution_count": 9,
   "metadata": {},
   "outputs": [
    {
     "name": "stdout",
     "output_type": "stream",
     "text": [
      "kavya\n",
      "KAVYA\n"
     ]
    }
   ],
   "source": [
    "class string:\n",
    "    def _init_(self):\n",
    "        self.string = \"\"\n",
    "    def getstring(self):\n",
    "        self.string = input()\n",
    "    def printstring(self):\n",
    "        print(self.string.upper())\n",
    "var = string()\n",
    "var.getstring()\n",
    "var.printstring()"
   ]
  },
  {
   "cell_type": "markdown",
   "metadata": {},
   "source": [
    "6. Write a program that calculates and prints the value according to the given formula:\n",
    "Q = Square root of [(2 * C * D)/H]\n",
    "Following are the fixed values of C and H: C is 50. H is 30.\n",
    "D is the variable whose values should be input to your program in a comma-separated sequence.\n",
    "Let us assume the following comma separated input sequence is given to the program: 100,150,180\n",
    "The output of the program should be: 18, 22, 24\n",
    "Hints: If the output received is in decimal form, it should be rounded off to its nearest value (for example, if the output received is 26.0, it should be printed as 26)\n",
    "In case of input data being supplied to the question, it should be assumed to be a console input."
   ]
  },
  {
   "cell_type": "code",
   "execution_count": 24,
   "metadata": {},
   "outputs": [
    {
     "name": "stdout",
     "output_type": "stream",
     "text": [
      "enter D values seperated by comma:100,150,180\n",
      "The values of Q: \n",
      "18, 22, 24\n"
     ]
    }
   ],
   "source": [
    "D = input(\"enter D values seperated by comma:\").split(\",\")\n",
    "D = [int(i) for i in D]\n",
    "C = 50\n",
    "H = 30\n",
    "Q = []\n",
    "for i in D:\n",
    "    Q.append(round((2*C*i/H)**0.5))\n",
    "print(\"The values of Q: \")\n",
    "print(*Q,sep= \", \")"
   ]
  },
  {
   "cell_type": "markdown",
   "metadata": {},
   "source": [
    "7. Write a program which takes 2 digits, X,Y as input and generates a 2-dimensional array. The element value in the i-th row and j-th column of the array should be i*j.\n",
    "Note: i=0,1.., X-1; j=0,1,¡Y-1.\n",
    "Suppose the following inputs are given to the program: 3, 5\n",
    "Then, the output of the program should be: [[0, 0, 0, 0, 0], [0, 1, 2, 3, 4], [0, 2, 4, 6, 8]]\n",
    "Hints: In case of input data being supplied to the question, it should be assumed to be a console input in a comma-separated form."
   ]
  },
  {
   "cell_type": "code",
   "execution_count": 25,
   "metadata": {},
   "outputs": [
    {
     "name": "stdout",
     "output_type": "stream",
     "text": [
      "enter x and y values separated by comma:3,5\n",
      "2D araay:\n",
      "[[0. 0. 0. 0. 0.]\n",
      " [0. 1. 2. 3. 4.]\n",
      " [0. 2. 4. 6. 8.]]\n"
     ]
    }
   ],
   "source": [
    "import numpy as np\n",
    "enter = input(\"enter x and y values separated by comma:\").split(\",\")\n",
    "X = int(enter[0])\n",
    "Y = int(enter[1])\n",
    "ans = np.zeros((X,Y))\n",
    "for i in range(0,X):\n",
    "    for j in range(0,Y):\n",
    "        ans[i,j] = i*j\n",
    "print(\"2D araay:\")\n",
    "print(ans)"
   ]
  },
  {
   "cell_type": "markdown",
   "metadata": {},
   "source": [
    "8. Write a program that accepts a comma separated sequence of words as input and prints the words in a comma-separated sequence after sorting them alphabetically.\n",
    "Suppose the input is supplied to the program: without, hello, bag, world\n",
    "Then, the output should be: bag, hello, without, world\n",
    "Hints: In case of input data being supplied to the question, it should be assumed to be a console input."
   ]
  },
  {
   "cell_type": "code",
   "execution_count": 27,
   "metadata": {},
   "outputs": [
    {
     "name": "stdout",
     "output_type": "stream",
     "text": [
      "Enter some words separated by comma:without,hello,bag,world\n",
      "sequence of given words after sorting them:\n",
      "bag, hello, without, world\n"
     ]
    }
   ],
   "source": [
    "X = input(\"Enter some words separated by comma:\").split(\",\")\n",
    "X.sort()\n",
    "print(\"sequence of given words after sorting them:\")\n",
    "print(*X,sep=\", \")"
   ]
  },
  {
   "cell_type": "markdown",
   "metadata": {},
   "source": [
    "9. Write a program that accepts sequence of lines as input and prints the lines after making all characters in the sentence capitalized.\n",
    "Suppose the input is supplied to the program: Hello world\n",
    "Practice makes perfect Then, the output should be: HELLO WORLD\n",
    "PRACTICE MAKES PERFECT\n",
    "Hints: In case of input data being supplied to the question, it should be assumed to be a console input."
   ]
  },
  {
   "cell_type": "code",
   "execution_count": 5,
   "metadata": {},
   "outputs": [
    {
     "name": "stdout",
     "output_type": "stream",
     "text": [
      "enter no of lines:2\n",
      "enter 1st line:hello world\n",
      "enter 2st line:practice makes perfect\n",
      "HELLO WORLD\n",
      "PRACTICE MAKES PERFECT\n"
     ]
    }
   ],
   "source": [
    "x = input(\"enter no of lines:\")\n",
    "x = int(x)\n",
    "lines = []\n",
    "for i in range(1,x+1):\n",
    "    lines.append(input(\"enter {}st line:\".format(i)))\n",
    "for i in range(len(lines)):\n",
    "    print(lines[i].upper())"
   ]
  },
  {
   "cell_type": "markdown",
   "metadata": {},
   "source": [
    "10. Write a program that accepts a sequence of whitespace separated words as input and prints the words after removing all duplicate words and sorting them alphanumerically.\n",
    "Suppose the input is supplied to the program: hello world and practice makes perfect and hello world again\n",
    "Then, the output should be: again and hello makes perfect practice world\n",
    "Hints: In case of input data being supplied to the question, it should be assumed to be a console input. We use set container to remove duplicated data automatically and then use sorted() to sort the data."
   ]
  },
  {
   "cell_type": "code",
   "execution_count": 11,
   "metadata": {},
   "outputs": [
    {
     "name": "stdout",
     "output_type": "stream",
     "text": [
      "Enter whitespace separated wordshello world and practice makes perfect and hello world again\n",
      "the worlds after sorting: \n",
      "again and hello makes perfect practice world\n"
     ]
    }
   ],
   "source": [
    "x = input(\"Enter whitespace separated words\").split()\n",
    "ans = sorted(set(x))\n",
    "print(\"the worlds after sorting: \")\n",
    "print(*ans)"
   ]
  },
  {
   "cell_type": "markdown",
   "metadata": {},
   "source": [
    "11. Write a program which accepts a sequence of comma separated 4 digit binary numbers as its input and then check whether they are divisible by 5 or not. The numbers that are divisible by 5 are to be printed in a comma separated sequence.\n",
    "Suppose the input is supplied to the program: 0100,0011,1010,1001\n",
    "Then the output should be: 1010\n",
    "Notes: Assume the data is input by console.\n",
    "Hints: In case of input data being supplied to the question, it should be assumed to be a console input."
   ]
  },
  {
   "cell_type": "code",
   "execution_count": 14,
   "metadata": {},
   "outputs": [
    {
     "name": "stdout",
     "output_type": "stream",
     "text": [
      "enter 4 digit binary numbers separated by comma:0100,0011,1010,1001\n",
      "100\n",
      "1010\n"
     ]
    }
   ],
   "source": [
    "x = input(\"enter 4 digit binary numbers separated by comma:\").split(\",\")\n",
    "x = [int(i) for i in x]\n",
    "for i in x:\n",
    "    if i % 5 == 0:\n",
    "        print(i)"
   ]
  },
  {
   "cell_type": "markdown",
   "metadata": {},
   "source": [
    "12. Write a program, which will find all such numbers between 1000 and 3000 (both included) such that each digit of the number is an even number.\n",
    "The numbers obtained should be printed in a comma-separated sequence on a single line.\n",
    "Hints: In case of input data being supplied to the question, it should be assumed to be a console input."
   ]
  },
  {
   "cell_type": "code",
   "execution_count": 13,
   "metadata": {},
   "outputs": [
    {
     "name": "stdout",
     "output_type": "stream",
     "text": [
      "2000,2002,2004,2006,2008,2020,2022,2024,2026,2028,2040,2042,2044,2046,2048,2060,2062,2064,2066,2068,2080,2082,2084,2086,2088,2200,2202,2204,2206,2208,2220,2222,2224,2226,2228,2240,2242,2244,2246,2248,2260,2262,2264,2266,2268,2280,2282,2284,2286,2288,2400,2402,2404,2406,2408,2420,2422,2424,2426,2428,2440,2442,2444,2446,2448,2460,2462,2464,2466,2468,2480,2482,2484,2486,2488,2600,2602,2604,2606,2608,2620,2622,2624,2626,2628,2640,2642,2644,2646,2648,2660,2662,2664,2666,2668,2680,2682,2684,2686,2688,2800,2802,2804,2806,2808,2820,2822,2824,2826,2828,2840,2842,2844,2846,2848,2860,2862,2864,2866,2868,2880,2882,2884,2886,2888\n"
     ]
    }
   ],
   "source": [
    "X = list(range(1000,3001))\n",
    "x = [str(i) for i in X]\n",
    "ans = []\n",
    "\n",
    "for i in x:\n",
    "    k = 0\n",
    "    for j in range(len(i)):\n",
    "        if (int(i[j]) % 2 == 0) | (int(i[j]) == 0):\n",
    "            k = k+1\n",
    "    if k == len(i):\n",
    "        ans.append(i)\n",
    "\n",
    "print(*ans,sep =\",\")\n",
    " \n"
   ]
  },
  {
   "cell_type": "markdown",
   "metadata": {},
   "source": [
    "13. Write a program that accepts a sentence and calculate the number of letters and digits.\n",
    "Suppose the input is supplied to the program: hello world! 123\n",
    "Then, the output should be: LETTERS 10\n",
    "DIGITS 3\n",
    "Hints: In case of input data being supplied to the question, it should be assumed to be a console input."
   ]
  },
  {
   "cell_type": "code",
   "execution_count": 20,
   "metadata": {},
   "outputs": [
    {
     "name": "stdout",
     "output_type": "stream",
     "text": [
      "enter the input sentence:Hello world! 123\n",
      "Letters: 10\n",
      "Digits: 3\n"
     ]
    }
   ],
   "source": [
    "x = input(\"enter the input sentence:\")\n",
    "count1 = 0\n",
    "count2 = 0\n",
    "for i in range(len(x)):\n",
    "    if x[i].isalpha():\n",
    "        count1 += 1\n",
    "    if x[i].isnumeric():\n",
    "        count2 +=1\n",
    "print(\"LETTERS: {}\".format(count1))   \n",
    "print(\"DIGITS: {}\".format(count2))"
   ]
  },
  {
   "cell_type": "markdown",
   "metadata": {},
   "source": [
    "14. Write a program that accepts a sentence and calculate the number of upper case letters and lower case letters.\n",
    "Suppose the input is supplied to the program: Hello world!\n",
    "Then, the output should be: UPPER CASE 1\n",
    "LOWER CASE 9\n",
    "Hints: In case of input data being supplied to the question, it should be assumed to be a console input."
   ]
  },
  {
   "cell_type": "code",
   "execution_count": 22,
   "metadata": {},
   "outputs": [
    {
     "name": "stdout",
     "output_type": "stream",
     "text": [
      "enter the sentence:Hello world!\n",
      "UPPER CASE: 1\n",
      "LOWER CASE: 9\n"
     ]
    }
   ],
   "source": [
    "x = input(\"enter the sentence:\")\n",
    "count1 = 0\n",
    "count2 = 0\n",
    "for i in range(len(x)):\n",
    "    if x[i].isupper():\n",
    "        count1 += 1\n",
    "    if x[i].islower():\n",
    "        count2 +=1\n",
    "print(\"UPPER CASE: {}\".format(count1))   \n",
    "print(\"LOWER CASE: {}\".format(count2))"
   ]
  },
  {
   "cell_type": "markdown",
   "metadata": {},
   "source": [
    "15. Write a program that computes the value of a+aa+aaa+aaaa with a given digit as the value of a.\n",
    "Suppose the input is supplied to the program: 9\n",
    "Then, the output should be: 11106\n",
    "Hints: In case of input data being supplied to the question, it should be assumed to be a console input"
   ]
  },
  {
   "cell_type": "code",
   "execution_count": 48,
   "metadata": {},
   "outputs": [
    {
     "name": "stdout",
     "output_type": "stream",
     "text": [
      "enter value of n:9\n",
      "11106\n"
     ]
    }
   ],
   "source": [
    "n = input(\"enter value of n:\")\n",
    "l = [n, n+n, n+n+n, n+n+n+n]\n",
    "l = [int(i) for i in l]\n",
    "print(sum(l))"
   ]
  },
  {
   "cell_type": "markdown",
   "metadata": {},
   "source": [
    "16. Use a list comprehension to square each odd number in a list. The list is input by a sequence of comma-separated numbers.\n",
    "Suppose the input is supplied to the program: 1,2,3,4,5,6,7,8,9\n",
    "Then, the output should be: 1, 3, 5, 7, 9\n",
    "Hints: In case of input data being supplied to the question, it should be assumed to be a console input."
   ]
  },
  {
   "cell_type": "code",
   "execution_count": 25,
   "metadata": {},
   "outputs": [
    {
     "name": "stdout",
     "output_type": "stream",
     "text": [
      "enter the values for list separated by comma:1,2,3,4,5,6,7,8,9\n",
      "1,3,5,7,9\n"
     ]
    }
   ],
   "source": [
    "x = input(\"enter the values for list separated by comma:\").split(\",\")\n",
    "x = [int(i) for i in x]\n",
    "ans = [i for i in x if i%2 != 0]\n",
    "print(*ans,sep=\",\")"
   ]
  },
  {
   "cell_type": "markdown",
   "metadata": {},
   "source": [
    "17. Write a program that computes the net amount of a bank account based a transaction log from console input. The transaction log format is shown as following:\n",
    "D 100\n",
    "W 200\n",
    "--D means deposit while W means withdrawal.\n",
    "Suppose the input is supplied to the program:\n",
    "D 300\n",
    "D 300\n",
    "W 200\n",
    "D 100\n",
    "Then, the output should be: 500\n",
    "Hints: In case of input data being supplied to the question, it should be assumed to be a console input."
   ]
  },
  {
   "cell_type": "code",
   "execution_count": 1,
   "metadata": {},
   "outputs": [
    {
     "name": "stdout",
     "output_type": "stream",
     "text": [
      "no of transactions:4\n",
      "enter 1st transaction: D 300\n",
      "enter 2st transaction: D 300\n",
      "enter 3st transaction: W 200\n",
      "enter 4st transaction: D 100\n",
      "net amount of the bank: 500\n"
     ]
    }
   ],
   "source": [
    "n = input(\"no of transactions:\")\n",
    "n = int(n)\n",
    "D = 0\n",
    "W = 0\n",
    "for i in range(n):\n",
    "    x = input(\"enter {}st transaction: \".format(i+1)).split()\n",
    "    if x[0] == \"D\":\n",
    "        D+=int(x[1])\n",
    "    elif x[0] == \"W\":\n",
    "        W+= int(x[1])\n",
    "print(\"net amount of the bank: {}\".format(D-W))"
   ]
  },
  {
   "cell_type": "markdown",
   "metadata": {},
   "source": [
    "18. A website requires the users to input username and password to register. Write a program to check the validity of password input by users.\n",
    "Following are the criteria for checking the password:\n",
    "At least 1 letter between [a-z]\n",
    "At least 1 letter between [A-Z]\n",
    "At least 1 character from [$#@]\n",
    "Minimum length of transaction password: 6\n",
    "Maximum length of transaction password: 12\n",
    "Your program should accept a sequence of comma separated passwords and will check them according to the above criteria. Passwords that match the criteria are to be printed, each separated by a comma.\n",
    "If the following passwords are given as input to the program: ABd1234@1,a F1#,2w3E*,2We3345\n",
    "Then, the output of the program should be: ABd1234@1\n",
    "Hints: In case of input data being supplied to the question, it should be assumed to be a console input.\n",
    "You are required to write a program to sort the (name, age, height) tuples by ascending order where name is string, age and height are numbers. The tuples are input by console. The sort criteria is:\n",
    "1: Sort based on name;\n",
    "2: Then sort based on age;\n",
    "3: Then sort by score.\n",
    "The priority is that name > age > score.\n",
    "If the following tuples are given as input to the program:\n",
    "Tom,19,80\n",
    "John,20,90\n",
    "Jony,"
   ]
  },
  {
   "cell_type": "code",
   "execution_count": 8,
   "metadata": {},
   "outputs": [
    {
     "name": "stdout",
     "output_type": "stream",
     "text": [
      "enter passwords separated by comma: ABd1234@1,a F1#,2w3E*,2We3345\n",
      "ABd1234@1\n"
     ]
    }
   ],
   "source": [
    "x = input(\"enter passwords separated by comma: \").split(\",\")\n",
    "for i in x:\n",
    "    upper = 0\n",
    "    num = 0\n",
    "    char = 0\n",
    "    lower = 0\n",
    "    space = 0\n",
    "    for j in range(len(i)):\n",
    "        if i[j].isupper():\n",
    "            upper+=1\n",
    "        elif i[j].islower():\n",
    "            lower+=1\n",
    "        elif i[j].isnumeric():\n",
    "            num+=1 \n",
    "        \n",
    "        elif i[j].isspace():\n",
    "            space +=1\n",
    "        else:\n",
    "            char += 1\n",
    "    if (upper >= 1) and (num >= 1) and (char>=1) and (lower>=1) and (len(i)>=6) and (len(i) <= 12):\n",
    "        print(i)\n",
    "   "
   ]
  },
  {
   "cell_type": "markdown",
   "metadata": {},
   "source": [
    "19. You are required to write a program to sort the (name, age, height) tuples by ascending order where name is string, age and height are numbers. The tuples are input by console. 1: Sort based on name;\n",
    "2: Then sort based on age;\n",
    "3: Then sort by score.\n",
    "The priority is that name > age > score.\n",
    "If the following tuples are given as input to the program:\n",
    "Tom,19,80\n",
    "John,20,90\n",
    "Jony,17,91\n",
    "Jony,17,93\n",
    "Json,21,85\n",
    "Then, the output of the program should be:\n",
    "[('John', '20', '90'), ('Jony', '17', '91'), ('Jony', '17', '93'), ('Json', '21', '85'), ('Tom', '19', '80')]\n",
    "Hints: In case of input data being supplied to the question, it should be assumed to be a console input. We use itemgetter to enable multiple sort keys."
   ]
  },
  {
   "cell_type": "code",
   "execution_count": 18,
   "metadata": {},
   "outputs": [
    {
     "name": "stdout",
     "output_type": "stream",
     "text": [
      "enter no of entries:5\n",
      "enter 1st person details: Tom,19,80\n",
      "enter 2st person details: John,20,90\n",
      "enter 3st person details: Jony,17,91\n",
      "enter 4st person details: Jony,17,93\n",
      "enter 5st person details: Json,21,85\n",
      "[('John', '20', '90'), ('Jony', '17', '91'), ('Jony', '17', '93'), ('Json', '21', '85'), ('Tom', '19', '80')]\n"
     ]
    }
   ],
   "source": [
    "import operator\n",
    "n = input(\"enter no of entries:\")\n",
    "n = int(n)\n",
    "x = []\n",
    "for i in range(n):\n",
    "    x.append(tuple(input(\"enter {}st person details: \".format(i+1)).split(\",\")))\n",
    "x.sort(key=operator.itemgetter(0,1,2))\n",
    "\n",
    "print(x)\n"
   ]
  },
  {
   "cell_type": "markdown",
   "metadata": {},
   "source": [
    "20. Define a class with a generator which can iterate the numbers, which are divisible by 7, between a given range 0 and n.\n",
    "Hints: Consider use yield"
   ]
  },
  {
   "cell_type": "code",
   "execution_count": 13,
   "metadata": {},
   "outputs": [
    {
     "name": "stdout",
     "output_type": "stream",
     "text": [
      "0\n",
      "7\n",
      "14\n"
     ]
    }
   ],
   "source": [
    "n = 20\n",
    "def my_gen():\n",
    "    for i in range(0,n):\n",
    "        if i % 7 == 0:\n",
    "            yield i\n",
    "for i in my_gen():\n",
    "     print(i)"
   ]
  },
  {
   "cell_type": "markdown",
   "metadata": {},
   "source": [
    "21. A robot moves in a plane starting from the original point (0,0). The robot can move toward UP, DOWN, LEFT and RIGHT with a given steps. The trace of robot movement is shown as the following:\n",
    "UP 5\n",
    "DOWN 3\n",
    "LEFT 3\n",
    "RIGHT 2\n",
    "¡\n",
    "The numbers after the direction are steps. Please write a program to compute the distance from current position after a sequence of movement and original point. If the distance is a float, then just print the nearest integer.\n",
    "If the following tuples are given as input to the program:\n",
    "UP 5\n",
    "DOWN 3\n",
    "LEFT 3\n",
    "RIGHT 2\n",
    "Then, the output of the program should be: 2\n",
    "Hints: In case of input data being supplied to the question, it should be assumed to be a console input."
   ]
  },
  {
   "cell_type": "code",
   "execution_count": 11,
   "metadata": {},
   "outputs": [
    {
     "name": "stdout",
     "output_type": "stream",
     "text": [
      "no of movements:4\n",
      "enter 1st movement: \n",
      "UP 5\n",
      "enter 2st movement: \n",
      "DOWN 3\n",
      "enter 3st movement: \n",
      "LEFT 3\n",
      "enter 4st movement: \n",
      "RIGHT 2\n",
      "[['UP', '5'], ['DOWN', '3'], ['LEFT', '3'], ['RIGHT', '2']]\n",
      "the distance travelled by robot is: 2\n"
     ]
    }
   ],
   "source": [
    "n = int(input(\"no of movements:\"))\n",
    "x =[]\n",
    "for i in range(n):\n",
    "    print(\"enter {}st movement: \".format(i+1))\n",
    "    x.append(input().split())\n",
    "intial = [0,0]\n",
    "print(x)\n",
    "for i in x:\n",
    "    if i[0] == \"UP\":\n",
    "        intial[1] += int(i[1])\n",
    "    if i[0] == \"DOWN\":\n",
    "        intial[1] -= int(i[1])\n",
    "    if i[0] == \"LEFT\":\n",
    "        intial[0] -= int(i[1])\n",
    "    if i[0] == \"RIGHT\":\n",
    "        intial[0] += int(i[1])\n",
    "distance = round((intial[0]**2+intial[1]**2)**0.5)\n",
    "print(\"the distance travelled by robot is: {}\".format(distance))"
   ]
  },
  {
   "cell_type": "markdown",
   "metadata": {},
   "source": [
    "22. Write a program to compute the frequency of the words from the input. The output should output after sorting the key alphanumerically.\n",
    "Suppose the input is supplied to the program:\n",
    "New to Python or choosing between Python 2 and Python 3? Read Python 2 or Python 3.\n",
    "Then, the output should be:\n",
    "2:2\n",
    "3.:1\n",
    "3?:1\n",
    "New:1\n",
    "Python:5\n",
    "Read:1\n",
    "and:1\n",
    "between:1\n",
    "choosing:1\n",
    "or:2\n",
    "to:1\n",
    "Hints: In case of input data being supplied to the question, it should be assumed to be a console input."
   ]
  },
  {
   "cell_type": "code",
   "execution_count": 19,
   "metadata": {},
   "outputs": [
    {
     "name": "stdout",
     "output_type": "stream",
     "text": [
      "enter string:new to python or choosing between python 2 and python 3? read python 2 or python 3\n",
      "2: 2\n",
      "3: 1\n",
      "3?: 1\n",
      "and: 1\n",
      "between: 1\n",
      "choosing: 1\n",
      "new: 1\n",
      "or: 2\n",
      "python: 5\n",
      "read: 1\n",
      "to: 1\n"
     ]
    }
   ],
   "source": [
    "string = input(\"enter string:\").split()\n",
    "d = {}\n",
    "for i in string:\n",
    "    d[i] = string.count(i)\n",
    "sorted_keys = sorted(d.keys())\n",
    "for i in sorted_keys:\n",
    "    print(\"{}: {}\".format(i,d[i]))\n"
   ]
  },
  {
   "cell_type": "markdown",
   "metadata": {},
   "source": [
    "23. Write a method which can calculate square value of number\n",
    "Hints: Using the ** operator"
   ]
  },
  {
   "cell_type": "code",
   "execution_count": 14,
   "metadata": {},
   "outputs": [
    {
     "name": "stdout",
     "output_type": "stream",
     "text": [
      "enter value to be squred:10\n",
      "100\n"
     ]
    }
   ],
   "source": [
    "n = int(input(\"enter value to be squred:\"))\n",
    "print(n**2)"
   ]
  },
  {
   "cell_type": "markdown",
   "metadata": {},
   "source": [
    "24. Python has many built-in functions, and if you do not know how to use it, you can read document online or find some books. But Python has a built-in document function for every\n",
    "built-in functions. Please write a program to print some Python built-in functions documents, such as abs(), int(), raw_input() And add document for your own function\n",
    "Hints: The built-in document method is __doc__"
   ]
  },
  {
   "cell_type": "code",
   "execution_count": 1,
   "metadata": {},
   "outputs": [
    {
     "name": "stdout",
     "output_type": "stream",
     "text": [
      "Return the absolute value of the argument.\n",
      "int([x]) -> integer\n",
      "int(x, base=10) -> integer\n",
      "\n",
      "Convert a number or string to an integer, or return 0 if no arguments\n",
      "are given.  If x is a number, return x.__int__().  For floating point\n",
      "numbers, this truncates towards zero.\n",
      "\n",
      "If x is not a number or if base is given, then x must be a string,\n",
      "bytes, or bytearray instance representing an integer literal in the\n",
      "given base.  The literal can be preceded by '+' or '-' and be surrounded\n",
      "by whitespace.  The base defaults to 10.  Valid bases are 0 and 2-36.\n",
      "Base 0 means to interpret the base from the string as an integer literal.\n",
      ">>> int('0b100', base=0)\n",
      "4\n",
      "Forward raw_input to frontends\n",
      "\n",
      "        Raises\n",
      "        ------\n",
      "        StdinNotImplentedError if active frontend doesn't support stdin.\n",
      "        \n"
     ]
    }
   ],
   "source": [
    "print(abs.__doc__)\n",
    "print(int.__doc__)\n",
    "print(input.__doc__)"
   ]
  },
  {
   "cell_type": "markdown",
   "metadata": {},
   "source": [
    "25. Define a class, which have a class parameter and have a same instance parameter.Hints: Define a instance parameter, need add it in __init__ method\n",
    "You can init a object with construct parameter or set the value later"
   ]
  },
  {
   "cell_type": "code",
   "execution_count": 43,
   "metadata": {},
   "outputs": [
    {
     "name": "stdout",
     "output_type": "stream",
     "text": [
      "kavya\n"
     ]
    }
   ],
   "source": [
    "class new:\n",
    "    name = \"kavya\"\n",
    "    def _init_(self):\n",
    "        self.name = name\n",
    "ans = new()\n",
    "print(ans.name)"
   ]
  },
  {
   "cell_type": "markdown",
   "metadata": {},
   "source": [
    "26. Define a function which can compute the sum of two numbers.\n",
    "Hints: Define a function with two numbers as arguments. You can compute the sum in the function and return the value."
   ]
  },
  {
   "cell_type": "code",
   "execution_count": 21,
   "metadata": {},
   "outputs": [
    {
     "data": {
      "text/plain": [
       "5"
      ]
     },
     "execution_count": 21,
     "metadata": {},
     "output_type": "execute_result"
    }
   ],
   "source": [
    "def sum(a,b):\n",
    "    return(a+b)\n",
    "total = sum(2,3)\n",
    "total"
   ]
  },
  {
   "cell_type": "markdown",
   "metadata": {},
   "source": [
    "27. Define a function that can convert a integer into a string and print it in console.\n",
    "Hints: Use str() to convert a number to string."
   ]
  },
  {
   "cell_type": "code",
   "execution_count": 26,
   "metadata": {},
   "outputs": [
    {
     "name": "stdout",
     "output_type": "stream",
     "text": [
      "5\n"
     ]
    }
   ],
   "source": [
    "def int_str(a):\n",
    "    print(str(a))\n",
    "int_str(5)\n"
   ]
  },
  {
   "cell_type": "markdown",
   "metadata": {},
   "source": [
    "28. Define a function that can convert a integer into a string and print it in console.\n",
    "Hints: Use str() to convert a number to string."
   ]
  },
  {
   "cell_type": "code",
   "execution_count": 27,
   "metadata": {},
   "outputs": [],
   "source": [
    "def int_str(a):\n",
    "    print(str(a))"
   ]
  },
  {
   "cell_type": "markdown",
   "metadata": {},
   "source": [
    "29. Define a function that can receive two integral numbers in string form and compute their sum and then print it in console.\n",
    "Hints: Use int() to convert a string to integer."
   ]
  },
  {
   "cell_type": "code",
   "execution_count": 30,
   "metadata": {},
   "outputs": [
    {
     "name": "stdout",
     "output_type": "stream",
     "text": [
      "13\n"
     ]
    }
   ],
   "source": [
    "def sum_strings(a,b):\n",
    "    sum_of_strings= str(a)+str(b)\n",
    "    print(sum_of_strings)\n",
    "sum_strings(1,3)"
   ]
  },
  {
   "cell_type": "markdown",
   "metadata": {},
   "source": [
    "30. Define a function that can accept two strings as input and concatenate them and then print it in console.\n",
    "Hints: Use + to concatenate the strings"
   ]
  },
  {
   "cell_type": "code",
   "execution_count": 32,
   "metadata": {},
   "outputs": [
    {
     "name": "stdout",
     "output_type": "stream",
     "text": [
      "enter first string: first \n",
      "enter second string:  second\n",
      "first  second\n"
     ]
    }
   ],
   "source": [
    "def concatenate(a,b):\n",
    "    print(a+b)\n",
    "x = input(\"enter first string: \")\n",
    "y = input(\"enter second string: \")\n",
    "concatenate(x,y)"
   ]
  },
  {
   "cell_type": "markdown",
   "metadata": {},
   "source": [
    "31. Define a function that can accept two strings as input and print the string with maximum length in console. If two strings have the same length, then the function should print al l strings line by line.\n",
    "Hints: Use len() function to get the length of a string"
   ]
  },
  {
   "cell_type": "code",
   "execution_count": 34,
   "metadata": {},
   "outputs": [
    {
     "name": "stdout",
     "output_type": "stream",
     "text": [
      "enter 1st string: hello\n",
      "enter 2nd string: world\n",
      "hello\n",
      "world\n"
     ]
    }
   ],
   "source": [
    "def strings(a,b):\n",
    "    if len(a) > len(b):\n",
    "        print(a)\n",
    "    elif len(b) > len(a):\n",
    "        print(b)\n",
    "    else:\n",
    "        print(a)\n",
    "        print(b)\n",
    "x = input(\"enter 1st string: \")\n",
    "y = input(\"enter 2nd string: \")\n",
    "strings(x,y)"
   ]
  },
  {
   "cell_type": "markdown",
   "metadata": {},
   "source": [
    "32. Define a function that can accept an integer number as input and print the \"It is an even number\" if the number is even, otherwise print \"It is an odd number\".\n",
    "Hints: Use % operator to check if a number is even or odd."
   ]
  },
  {
   "cell_type": "code",
   "execution_count": 37,
   "metadata": {},
   "outputs": [
    {
     "name": "stdout",
     "output_type": "stream",
     "text": [
      "it is on odd number\n"
     ]
    }
   ],
   "source": [
    "def number(n):\n",
    "    if n%2 == 0:\n",
    "        print(\"it is an even number\")\n",
    "    else:\n",
    "        print(\"it is on odd number\")\n",
    "number(3)"
   ]
  },
  {
   "cell_type": "markdown",
   "metadata": {},
   "source": [
    "33. Define a function which can print a dictionary where the keys are numbers between 1 and 3 (both included) and the values are square of keys. Hints: Use dict[key]=value pattern to put entry into a dictionary.\n",
    "Use ** operator to get power of a number."
   ]
  },
  {
   "cell_type": "code",
   "execution_count": 38,
   "metadata": {},
   "outputs": [
    {
     "name": "stdout",
     "output_type": "stream",
     "text": [
      "{1: 1, 2: 4, 3: 9}\n"
     ]
    }
   ],
   "source": [
    "def function(x):\n",
    "    d = {}\n",
    "    for i in x:\n",
    "        d[i] = i**2\n",
    "    print(d)\n",
    "function(range(1,4))"
   ]
  },
  {
   "cell_type": "markdown",
   "metadata": {},
   "source": [
    "34. Define a function which can print a dictionary where the keys are numbers between 1 and 20 (both included) and the values are square of keys.\n",
    "Hints: Use dict[key]=value pattern to put entry into a dictionary.\n",
    "Use ** operator to get power of a number. Use range() for loops."
   ]
  },
  {
   "cell_type": "code",
   "execution_count": 39,
   "metadata": {},
   "outputs": [
    {
     "name": "stdout",
     "output_type": "stream",
     "text": [
      "{1: 1, 2: 4, 3: 9, 4: 16, 5: 25, 6: 36, 7: 49, 8: 64, 9: 81, 10: 100, 11: 121, 12: 144, 13: 169, 14: 196, 15: 225, 16: 256, 17: 289, 18: 324, 19: 361, 20: 400}\n"
     ]
    }
   ],
   "source": [
    "def function(x):\n",
    "    d = {}\n",
    "    for i in x:\n",
    "        d[i] = i**2\n",
    "    print(d)\n",
    "function(range(1,21))"
   ]
  },
  {
   "cell_type": "markdown",
   "metadata": {},
   "source": [
    "35. Define a function which can generate a dictionary where the keys are numbers between 1 and 20 (both included) and the values are square of keys. The function should just print the values only.\n",
    "Hints: Use dict[key]=value pattern to put entry into a dictionary. Use ** operator to get power of a number. Use\n",
    "range() for loops. Use keys() to iterate keys in the dictionary. Also we can use item() to get key/value pairs."
   ]
  },
  {
   "cell_type": "code",
   "execution_count": 42,
   "metadata": {},
   "outputs": [
    {
     "name": "stdout",
     "output_type": "stream",
     "text": [
      "dict_values([1, 4, 9, 16, 25, 36, 49, 64, 81, 100, 121, 144, 169, 196, 225, 256, 289, 324, 361, 400])\n"
     ]
    }
   ],
   "source": [
    "def function(x):\n",
    "    d = {}\n",
    "    for i in x:\n",
    "        d[i] = i**2\n",
    "    print(d.values())\n",
    "function(range(1,21))"
   ]
  },
  {
   "cell_type": "markdown",
   "metadata": {},
   "source": [
    "36. Define a function which can generate a dictionary where the keys are numbers between 1 and 20 (both included) and the values are square of keys. The function should just print the keys only.\n",
    "Hints: Use dict[key]=value pattern to put entry into a dictionary. Use ** operator to get power of a number. Use range() for loops. Use keys() to iterate keys in the dictionary. Also we can use item() to get key/value pairs."
   ]
  },
  {
   "cell_type": "code",
   "execution_count": 43,
   "metadata": {},
   "outputs": [
    {
     "name": "stdout",
     "output_type": "stream",
     "text": [
      "dict_keys([1, 2, 3, 4, 5, 6, 7, 8, 9, 10, 11, 12, 13, 14, 15, 16, 17, 18, 19, 20])\n"
     ]
    }
   ],
   "source": [
    "def function(x):\n",
    "    d = {}\n",
    "    for i in x:\n",
    "        d[i] = i**2\n",
    "    print(d.keys())\n",
    "function(range(1,21))"
   ]
  },
  {
   "cell_type": "markdown",
   "metadata": {},
   "source": [
    "37. Define a function which can generate and print a list where the values are square of numbers between 1 and 20 (both included).\n",
    "Hints: Use ** operator to get power of a number. Use range() for loops. Use list.append() to add values into a list."
   ]
  },
  {
   "cell_type": "code",
   "execution_count": 44,
   "metadata": {},
   "outputs": [
    {
     "name": "stdout",
     "output_type": "stream",
     "text": [
      "[1, 4, 9, 16, 25, 36, 49, 64, 81, 100, 121, 144, 169, 196, 225, 256, 289, 324, 361, 400]\n"
     ]
    }
   ],
   "source": [
    "L = []\n",
    "def squared_list(x):\n",
    "    for i in x:\n",
    "        L.append(i**2)\n",
    "    print(L)\n",
    "squared_list(range(1,21))"
   ]
  },
  {
   "cell_type": "markdown",
   "metadata": {},
   "source": [
    "38. Define a function which can generate a list where the values are square of numbers between 1 and 20 (both included). Then the function needs to print the first 5 elements in the list.\n",
    "Hints: Use ** operator to get power of a number. Use range() for loops. Use list.append() to add values into a list. Use [n1:n2] to slice a list"
   ]
  },
  {
   "cell_type": "code",
   "execution_count": 46,
   "metadata": {},
   "outputs": [
    {
     "name": "stdout",
     "output_type": "stream",
     "text": [
      "[1, 4, 9, 16, 25]\n"
     ]
    }
   ],
   "source": [
    "L = []\n",
    "def squared_list(x):\n",
    "    for i in x:\n",
    "        L.append(i**2)\n",
    "    print(L[:5])\n",
    "squared_list(range(1,21))"
   ]
  },
  {
   "cell_type": "markdown",
   "metadata": {},
   "source": [
    "39. Define a function which can generate a list where the values are square of numbers between 1 and 20 (both included). Then the function needs to print the last 5 elements in the list.\n",
    "Hints: Use ** operator to get power of a number. Use range() for loops. Use list.append() to add values into a list. Use [n1:n2] to slice a list"
   ]
  },
  {
   "cell_type": "code",
   "execution_count": 48,
   "metadata": {},
   "outputs": [
    {
     "name": "stdout",
     "output_type": "stream",
     "text": [
      "[256, 289, 324, 361, 400]\n"
     ]
    }
   ],
   "source": [
    "L = []\n",
    "def squared_list(x):\n",
    "    for i in x:\n",
    "        L.append(i**2)\n",
    "    print(L[-5:])\n",
    "squared_list(range(1,21))"
   ]
  },
  {
   "cell_type": "markdown",
   "metadata": {},
   "source": [
    "40. Define a function which can generate a list where the values are square of numbers between 1 and 20 (both included). Then the function needs to print all values except the first 5 elements in the list.\n",
    "Hints: Use ** operator to get power of a number. Use range() for loops. Use list.append() to add values into a list. Use [n1:n2] to slice a list"
   ]
  },
  {
   "cell_type": "code",
   "execution_count": 50,
   "metadata": {},
   "outputs": [
    {
     "name": "stdout",
     "output_type": "stream",
     "text": [
      "[36, 49, 64, 81, 100, 121, 144, 169, 196, 225, 256, 289, 324, 361, 400]\n"
     ]
    }
   ],
   "source": [
    "L = []\n",
    "def squared_list(x):\n",
    "    for i in x:\n",
    "        L.append(i**2)\n",
    "    print(L[5:])\n",
    "squared_list(range(1,21))"
   ]
  },
  {
   "cell_type": "markdown",
   "metadata": {},
   "source": [
    "41. Define a function which can generate and print a tuple where the value are square of numbers between 1 and 20 (both included).\n",
    "Hints: Use ** operator to get power of a number. Use range() for loops. Use list.append() to add values into a list. Use tuple() to get a tuple from a list."
   ]
  },
  {
   "cell_type": "code",
   "execution_count": 51,
   "metadata": {},
   "outputs": [
    {
     "name": "stdout",
     "output_type": "stream",
     "text": [
      "(1, 4, 9, 16, 25, 36, 49, 64, 81, 100, 121, 144, 169, 196, 225, 256, 289, 324, 361, 400)\n"
     ]
    }
   ],
   "source": [
    "L = []\n",
    "def squared_list(x):\n",
    "    for i in x:\n",
    "        L.append(i**2)\n",
    "    print(tuple(L))\n",
    "squared_list(range(1,21))"
   ]
  },
  {
   "cell_type": "markdown",
   "metadata": {},
   "source": [
    "42. With a given tuple (1,2,3,4,5,6,7,8,9,10), write a program to print the first half values in one line and the last half values in one line.\n",
    "Hints: Use [n1:n2] notation to get a slice from a tuple."
   ]
  },
  {
   "cell_type": "code",
   "execution_count": 62,
   "metadata": {},
   "outputs": [
    {
     "name": "stdout",
     "output_type": "stream",
     "text": [
      "(1, 2, 3, 4, 5)\n",
      "(6, 7, 8, 9, 10)\n"
     ]
    }
   ],
   "source": [
    "def half_values(x):\n",
    "    print(x[:int(len(x)/2)])\n",
    "    print(x[int((len(x)/2)):])\n",
    "    \n",
    "half_values((1,2,3,4,5,6,7,8,9,10))"
   ]
  },
  {
   "cell_type": "markdown",
   "metadata": {},
   "source": [
    "43. Write a program to generate and print another tuple whose values are even numbers in the given tuple (1,2,3,4,5,6,7,8,9,10).\n",
    "Hints: Use \"for\" to iterate the tuple. Use tuple() to generate a tuple from a list."
   ]
  },
  {
   "cell_type": "code",
   "execution_count": 65,
   "metadata": {},
   "outputs": [
    {
     "name": "stdout",
     "output_type": "stream",
     "text": [
      "(2, 4, 6, 8, 10)\n"
     ]
    }
   ],
   "source": [
    "L =[]\n",
    "def function(x):\n",
    "    for i in x:\n",
    "        if i % 2 == 0:\n",
    "            L.append(i)\n",
    "    print(tuple(L))\n",
    "    \n",
    "function((1,2,3,4,5,6,7,8,9,10))"
   ]
  },
  {
   "cell_type": "markdown",
   "metadata": {},
   "source": [
    "44. Write a program which accepts a string as input to print \"Yes\" if the string is \"yes\" or \"YES\" or \"Yes\", otherwise print \"No\".\n",
    "Hints: Use if statement to judge condition."
   ]
  },
  {
   "cell_type": "code",
   "execution_count": 67,
   "metadata": {},
   "outputs": [
    {
     "name": "stdout",
     "output_type": "stream",
     "text": [
      "Yes\n"
     ]
    }
   ],
   "source": [
    "def function(x):\n",
    "    if (x == \"Yes\") or (x == \"yes\") or  (x == \"YES\"):\n",
    "        print(\"Yes\")\n",
    "    else:\n",
    "        print(\"No\")\n",
    "function(\"yes\")"
   ]
  },
  {
   "cell_type": "markdown",
   "metadata": {},
   "source": [
    "45. Write a program which can filter even numbers in a list by using filter function. The list is: [1,2,3,4,5,6,7,8,9,10].\n",
    "Hints: use filter() to filter some elements in a list. Use lambda to define anonymous functions."
   ]
  },
  {
   "cell_type": "code",
   "execution_count": 69,
   "metadata": {},
   "outputs": [
    {
     "data": {
      "text/plain": [
       "[2, 4, 6, 8, 10]"
      ]
     },
     "execution_count": 69,
     "metadata": {},
     "output_type": "execute_result"
    }
   ],
   "source": [
    "x = [1,2,3,4,5,6,7,8,9,10]\n",
    "ans = list(filter(lambda i: i%2 == 0,x))\n",
    "ans\n",
    "import matplotlib.pyplot as plt\n"
   ]
  },
  {
   "cell_type": "markdown",
   "metadata": {},
   "source": [
    "46. Write a program which can map() to make a list whose elements are square of elements in [1,2,3,4,5,6,7,8,9,10]."
   ]
  },
  {
   "cell_type": "code",
   "execution_count": 74,
   "metadata": {},
   "outputs": [
    {
     "data": {
      "text/plain": [
       "[1, 4, 9, 16, 25, 36, 49, 64, 81, 100]"
      ]
     },
     "execution_count": 74,
     "metadata": {},
     "output_type": "execute_result"
    }
   ],
   "source": [
    "x = [1,2,3,4,5,6,7,8,9,10]\n",
    "ans = list(map(lambda i: i**2,x))\n",
    "ans"
   ]
  },
  {
   "cell_type": "markdown",
   "metadata": {},
   "source": [
    "48. Write a program which can filter() to make a list whose elements are even number between 1 and 20 (both included).\n",
    "Hints: Use filter() to filter elements of a list. Use lambda to define anonymous functions."
   ]
  },
  {
   "cell_type": "code",
   "execution_count": 72,
   "metadata": {},
   "outputs": [
    {
     "data": {
      "text/plain": [
       "[2, 4, 6, 8, 10, 12, 14, 16, 18, 20]"
      ]
     },
     "execution_count": 72,
     "metadata": {},
     "output_type": "execute_result"
    }
   ],
   "source": [
    "x = list(range(1,21))\n",
    "ans = list(filter(lambda i: i%2 == 0,x))\n",
    "ans"
   ]
  },
  {
   "cell_type": "markdown",
   "metadata": {},
   "source": [
    "49. Write a program which can map() to make a list whose elements are square of numbers between 1 and 20 (both included).\n",
    "Hints: Use map() to generate a list. Use lambda to define anonymous functions."
   ]
  },
  {
   "cell_type": "code",
   "execution_count": 87,
   "metadata": {},
   "outputs": [
    {
     "data": {
      "text/plain": [
       "[1,\n",
       " 4,\n",
       " 9,\n",
       " 16,\n",
       " 25,\n",
       " 36,\n",
       " 49,\n",
       " 64,\n",
       " 81,\n",
       " 100,\n",
       " 121,\n",
       " 144,\n",
       " 169,\n",
       " 196,\n",
       " 225,\n",
       " 256,\n",
       " 289,\n",
       " 324,\n",
       " 361,\n",
       " 400]"
      ]
     },
     "execution_count": 87,
     "metadata": {},
     "output_type": "execute_result"
    }
   ],
   "source": [
    "x = list(range(1,21))\n",
    "ans = list(map(lambda i: i**2, x))\n",
    "ans"
   ]
  },
  {
   "cell_type": "markdown",
   "metadata": {},
   "source": [
    "50. Assuming that we have some email addresses in the \"username@companyname.com\" format, please write program to print the user name of a given email address. Both user names and company names are composed of letters only.\n",
    "If the following email address is given as input to the program: AAAA@Outlook.com\n",
    "Then, the output of the program should be: AAAA\n",
    "In case of input data being supplied to the question, it should be assumed to be a console input.\n",
    "Hints: Use \\w to match letters."
   ]
  },
  {
   "cell_type": "code",
   "execution_count": 41,
   "metadata": {},
   "outputs": [
    {
     "name": "stdout",
     "output_type": "stream",
     "text": [
      "enter email address: AAA@Outlook.com\n",
      "AAA\n"
     ]
    }
   ],
   "source": [
    "x = input(\"enter email address: \")\n",
    "import re\n",
    "ans = re.sub(\"\\W\",\" \",x)\n",
    "print(ans.split(\" \")[0])"
   ]
  },
  {
   "cell_type": "markdown",
   "metadata": {},
   "source": [
    "51. Assuming that we have some email addresses in the \"username@companyname.com\" format, please write program to print the company name of a given email address. Both user names and company names are composed of letters only.\n",
    "If the following email address is given as input to the program: AAAA@Outlook.com\n",
    "Then, the output of the program should be: Outlook\n",
    "In case of input data being supplied to the question, it should be assumed to be a console input.\n",
    "Hints: Use \\w to match letters"
   ]
  },
  {
   "cell_type": "code",
   "execution_count": 31,
   "metadata": {},
   "outputs": [
    {
     "name": "stdout",
     "output_type": "stream",
     "text": [
      "enter email address: AAA@Outlook.com\n",
      "Outlook\n"
     ]
    }
   ],
   "source": [
    "x = input(\"enter email address: \")\n",
    "import re\n",
    "ans = re.sub(\"\\W\",\" \",x)\n",
    "print(ans.split(\" \")[1])"
   ]
  },
  {
   "cell_type": "markdown",
   "metadata": {},
   "source": [
    "52. Write a program which accepts a sequence of words separated by whitespace as input to print the words composed of digits only.\n",
    "If the following words are given as input to the program: 2 cats and 3 dogs.\n",
    "Then, the output of the program should be: ['2', '3']\n",
    "In case of input data being supplied to the question, it should be assumed to be a console input."
   ]
  },
  {
   "cell_type": "code",
   "execution_count": 100,
   "metadata": {},
   "outputs": [
    {
     "name": "stdout",
     "output_type": "stream",
     "text": [
      "enter words: 2 cats and 3 dogs\n",
      "['2', '3']\n"
     ]
    }
   ],
   "source": [
    "x = input(\"enter words: \").split()\n",
    "ans = []\n",
    "for i in x:\n",
    "    for j in range(len(i)):\n",
    "        if i[j].isdigit():\n",
    "            ans.append(i[j])\n",
    "print(ans)"
   ]
  },
  {
   "cell_type": "markdown",
   "metadata": {},
   "source": [
    "53. Print a unicode string \"hello world\".\n",
    "Hints: Use u'strings' format to define unicode string."
   ]
  },
  {
   "cell_type": "code",
   "execution_count": 101,
   "metadata": {},
   "outputs": [
    {
     "name": "stdout",
     "output_type": "stream",
     "text": [
      "hello world\n"
     ]
    }
   ],
   "source": [
    "print(u\"hello world\")"
   ]
  },
  {
   "cell_type": "markdown",
   "metadata": {},
   "source": [
    "54. Write a program to compute 1/2+2/3+3/4+...+n/n+1 with a given n input by console (n>0).\n",
    "If the following n is given as input to the program: 5"
   ]
  },
  {
   "cell_type": "code",
   "execution_count": 4,
   "metadata": {},
   "outputs": [
    {
     "name": "stdout",
     "output_type": "stream",
     "text": [
      "enter n value:5\n",
      "3.5500000000000003\n"
     ]
    }
   ],
   "source": [
    "while True:\n",
    "    n = int(input(\"enter n value:\"))\n",
    "    if n > 0:\n",
    "        l = []\n",
    "        sum = 0\n",
    "        for i in range(1,n+1):\n",
    "            l.append((i/(i+1)))\n",
    "        for i in l:\n",
    "            sum = sum+i\n",
    "        print(sum)\n",
    "        break\n",
    "    else:\n",
    "        print(\"n should be positive\")"
   ]
  },
  {
   "cell_type": "markdown",
   "metadata": {},
   "source": [
    "55. Write a program to compute:\n",
    "f(n)=f(n-1)+100 when n>0\n",
    "and f(0)=1\n",
    "with a given n input by console (n>0).\n",
    "If the following n is given as input to the program: 5\n",
    "Then, the output of the program should be: 500\n",
    "In case of input data being supplied to the question, it should be assumed to be a console input.\n",
    "Hints: We can define recursive function in Python."
   ]
  },
  {
   "cell_type": "code",
   "execution_count": 2,
   "metadata": {},
   "outputs": [
    {
     "name": "stdout",
     "output_type": "stream",
     "text": [
      "enter value: 5\n",
      "ans: 501\n"
     ]
    }
   ],
   "source": [
    "def function(n):\n",
    "    if n == 0:\n",
    "        return 1\n",
    "    else:\n",
    "        return function(n-1)+100\n",
    "while True:\n",
    "    n = int(input(\"enter value: \"))\n",
    "    if n < 0:\n",
    "        print(\"n should be positive\")\n",
    "    else:\n",
    "        ans = function(n)\n",
    "        break\n",
    "print(\"ans: {}\".format(ans))"
   ]
  },
  {
   "cell_type": "markdown",
   "metadata": {},
   "source": [
    "56. The Fibonacci sequence is computed based on the following formula:\n",
    "f(n)=0 if n=0\n",
    "f(n)=1 if n=1\n",
    "f(n)=f(n-1)+f(n-2) if n>1\n",
    "Please write a program to compute the value of f(n) with a given n input by console.\n",
    "If the following n is given as input to the program: 7\n",
    "Then, the output of the program should be: 13\n",
    "In case of input data being supplied to the question, it should be assumed to be a console input.\n",
    "Hints: We can define recursive function in Python."
   ]
  },
  {
   "cell_type": "code",
   "execution_count": 1,
   "metadata": {},
   "outputs": [
    {
     "name": "stdout",
     "output_type": "stream",
     "text": [
      "enter n values:-1\n",
      "n should be positive\n",
      "enter n values:7\n",
      "13\n"
     ]
    }
   ],
   "source": [
    "def function(n):\n",
    "    if n == 0:\n",
    "        return 0\n",
    "    elif n == 1:\n",
    "        return 1\n",
    "    else:\n",
    "        return function(n-1)+function(n-2)\n",
    "while True:\n",
    "    n = int(input(\"enter n values:\"))\n",
    "    if n < 0:\n",
    "        print(\"n should be positive\")\n",
    "    else:\n",
    "        print(function(n))  \n",
    "        break\n"
   ]
  },
  {
   "cell_type": "markdown",
   "metadata": {},
   "source": [
    "57. The Fibonacci sequence is computed based on the following formula:\n",
    "f(n)=0 if n=0\n",
    "f(n)=1 if n=1\n",
    "f(n)=f(n-1)+f(n-2) if n>1\n",
    "Please write a program using list comprehension to print the Fibonacci sequence in comma separated form with a given n input by console.\n",
    "If the following n is given as input to the program: 7\n",
    "Then, the output of the program should be: 0, 1, 1, 2, 3, 5, 8, 13\n",
    "Hints: We can define recursive function in Python. Use list comprehension to generate a list from an existing list. Use string.join() to join a list of strings. In case of input data being supplied to the question, it should be assumed to be a console input."
   ]
  },
  {
   "cell_type": "code",
   "execution_count": 17,
   "metadata": {},
   "outputs": [
    {
     "name": "stdout",
     "output_type": "stream",
     "text": [
      "enter n value:7\n",
      "0, 1, 1, 2, 3, 5, 8, 13\n"
     ]
    }
   ],
   "source": [
    "while True:\n",
    "    n = int(input(\"enter n value:\"))\n",
    "    if n < 0:\n",
    "        print(\"n should be positive\")\n",
    "    else:\n",
    "        l = []\n",
    "        l.append(0)\n",
    "        l.append(1)\n",
    "        l1 = [l.append(l[i-1]+l[i-2]) for i in range(2,n+1)]  \n",
    "        break\n",
    "print(*l,sep = \", \")"
   ]
  }
 ],
 "metadata": {
  "kernelspec": {
   "display_name": "Python 3",
   "language": "python",
   "name": "python3"
  },
  "language_info": {
   "codemirror_mode": {
    "name": "ipython",
    "version": 3
   },
   "file_extension": ".py",
   "mimetype": "text/x-python",
   "name": "python",
   "nbconvert_exporter": "python",
   "pygments_lexer": "ipython3",
   "version": "3.7.1"
  }
 },
 "nbformat": 4,
 "nbformat_minor": 2
}
